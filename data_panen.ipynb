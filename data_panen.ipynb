{
 "cells": [
  {
   "cell_type": "code",
   "execution_count": 3,
   "metadata": {},
   "outputs": [],
   "source": [
    "data_panen = {\n",
    "  'lokasi1': {\n",
    "    'nama_lokasi': 'Kebun A',\n",
    "    'hasil_panen': {\n",
    "      'padi': 1200,\n",
    "      'jagung': 800,\n",
    "      'kedelai': 500\n",
    "    }\n",
    "  },\n",
    "  'lokasi2': {\n",
    "    'nama_lokasi': 'Kebun B',\n",
    "    'hasil_panen': {\n",
    "      'padi': 1500,\n",
    "      'jagung': 900,\n",
    "      'kedelai': 450\n",
    "    }\n",
    "  },\n",
    "  'lokasi3': {\n",
    "    'nama_lokasi': 'Kebun C',\n",
    "    'hasil_panen': {\n",
    "      'padi': 1100,\n",
    "      'jagung':750,\n",
    "      'kedelai': 600\n",
    "    }\n",
    "  },\n",
    "  'lokasi4': {\n",
    "    'nama_lokasi': 'Kebun D',\n",
    "    'hasil_panen': {\n",
    "      'padi': 1300,\n",
    "      'jagung': 850,\n",
    "      'kedelai': 550\n",
    "    }\n",
    "  },\n",
    "  'lokasi5': {\n",
    "    'nama_lokasi': 'Kebun E',\n",
    "    'hasil_panen': {\n",
    "      'padi': 1400,\n",
    "      'jagung': 950,\n",
    "      'kedelai': 480\n",
    "    }\n",
    "  }\n",
    "}"
   ]
  },
  {
   "cell_type": "code",
   "execution_count": 22,
   "metadata": {},
   "outputs": [
    {
     "name": "stdout",
     "output_type": "stream",
     "text": [
      "Nama lokasi: Kebun A\n",
      "Hasil Panen: Padi = 1200, Jagung: 800, Kedelai: 500\n",
      "\n",
      "Nama lokasi: Kebun B\n",
      "Hasil Panen: Padi = 1500, Jagung: 900, Kedelai: 450\n",
      "\n",
      "Nama lokasi: Kebun C\n",
      "Hasil Panen: Padi = 1100, Jagung: 750, Kedelai: 600\n",
      "\n",
      "Nama lokasi: Kebun D\n",
      "Hasil Panen: Padi = 1300, Jagung: 850, Kedelai: 550\n",
      "\n",
      "Nama lokasi: Kebun E\n",
      "Hasil Panen: Padi = 1400, Jagung: 950, Kedelai: 480\n",
      "\n"
     ]
    }
   ],
   "source": [
    "# 1\n",
    "for i in data_panen.values():\n",
    "  print(f'Nama lokasi: {i['nama_lokasi']}')\n",
    "  print(f'Hasil Panen: Padi = {i['hasil_panen']['padi']}, Jagung: {i['hasil_panen']['jagung']}, Kedelai: {i['hasil_panen']['kedelai']}\\n')\n"
   ]
  },
  {
   "cell_type": "code",
   "execution_count": 26,
   "metadata": {},
   "outputs": [
    {
     "name": "stdout",
     "output_type": "stream",
     "text": [
      "Hasil panen jagung dari lokasi 2 sebanyak 900\n"
     ]
    }
   ],
   "source": [
    "# 2\n",
    "print(f'Hasil panen jagung dari lokasi 2 sebanyak {data_panen['lokasi2']['hasil_panen']['jagung']}')"
   ]
  },
  {
   "cell_type": "code",
   "execution_count": 27,
   "metadata": {},
   "outputs": [
    {
     "name": "stdout",
     "output_type": "stream",
     "text": [
      "Nama lokasi 3 adalah Kebun C\n"
     ]
    }
   ],
   "source": [
    "# 3\n",
    "print(f'Nama lokasi 3 adalah {data_panen['lokasi3']['nama_lokasi']}')"
   ]
  },
  {
   "cell_type": "code",
   "execution_count": 40,
   "metadata": {},
   "outputs": [
    {
     "name": "stdout",
     "output_type": "stream",
     "text": [
      "[1200, 1500, 1100, 1300, 1400]\n",
      "[500, 450, 600, 550, 480]\n"
     ]
    }
   ],
   "source": [
    "# 4 dan 5\n",
    "jumlah_padi = []\n",
    "jumlah_kedelai = []\n",
    "\n",
    "for i in data_panen.values():\n",
    "  jumlah_padi.append(i['hasil_panen']['padi'])\n",
    "  jumlah_kedelai.append(i['hasil_panen']['kedelai'])\n",
    "\n",
    "print(jumlah_padi)\n",
    "print(jumlah_kedelai)"
   ]
  },
  {
   "cell_type": "code",
   "execution_count": null,
   "metadata": {},
   "outputs": [
    {
     "name": "stdout",
     "output_type": "stream",
     "text": [
      "lokasi1 dalam kondisi baik\n",
      "lokasi2 perlu perhatian khusus\n",
      "lokasi3 dalam kondisi baik\n",
      "lokasi4 perlu perhatian khusus\n",
      "lokasi5 perlu perhatian khusus\n"
     ]
    }
   ],
   "source": [
    "# 6\n",
    "for i,j in data_panen.items():\n",
    "  if j['hasil_panen']['padi'] > 1300 or j['hasil_panen']['jagung'] > 800:\n",
    "    print(f'{i} perlu perhatian khusus')\n",
    "  else:\n",
    "    print(f'{i} dalam kondisi baik')"
   ]
  }
 ],
 "metadata": {
  "kernelspec": {
   "display_name": "Python 3",
   "language": "python",
   "name": "python3"
  },
  "language_info": {
   "codemirror_mode": {
    "name": "ipython",
    "version": 3
   },
   "file_extension": ".py",
   "mimetype": "text/x-python",
   "name": "python",
   "nbconvert_exporter": "python",
   "pygments_lexer": "ipython3",
   "version": "3.12.2"
  }
 },
 "nbformat": 4,
 "nbformat_minor": 2
}
